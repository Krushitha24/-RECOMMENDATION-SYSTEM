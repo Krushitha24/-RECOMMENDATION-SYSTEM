{
 "cells": [
  {
   "cell_type": "code",
   "execution_count": 1,
   "metadata": {},
   "outputs": [],
   "source": [
    "#importing neccessary libraries\n",
    "import pandas as pd\n",
    "import numpy as np\n",
    "from sklearn.metrics.pairwise import cosine_similarity\n",
    "from sklearn.metrics import mean_squared_error, mean_absolute_error"
   ]
  },
  {
   "cell_type": "code",
   "execution_count": 5,
   "metadata": {},
   "outputs": [],
   "source": [
    "# Load datasets directly from uploaded files\n",
    "def load_movie_data():\n",
    "    movies = pd.read_csv(\"C:\\\\Users\\\\krush\\\\Downloads\\\\codetech_ml\\\\codetech task-4\\\\movies.csv\")\n",
    "    ratings = pd.read_csv(\"C:\\\\Users\\\\krush\\\\Downloads\\\\codetech_ml\\\\codetech task-4\\\\ratings.csv\")\n",
    "    return movies, ratings"
   ]
  },
  {
   "cell_type": "code",
   "execution_count": 7,
   "metadata": {},
   "outputs": [],
   "source": [
    "# Create the user-item matrix from ratings\n",
    "def create_user_movie_matrix(ratings):\n",
    "    return ratings.pivot(index='userId', columns='movieId', values='rating').fillna(0)"
   ]
  },
  {
   "cell_type": "code",
   "execution_count": 9,
   "metadata": {},
   "outputs": [],
   "source": [
    "# Compute user similarity using cosine similarity\n",
    "def train_collaborative_filter(user_movie_matrix):\n",
    "    user_similarity = cosine_similarity(user_movie_matrix)\n",
    "    return pd.DataFrame(user_similarity, index=user_movie_matrix.index, columns=user_movie_matrix.index)"
   ]
  },
  {
   "cell_type": "code",
   "execution_count": 11,
   "metadata": {},
   "outputs": [],
   "source": [
    "# Generate top N recommendations for a given user\n",
    "def get_recommendations(user_id, user_similarity, user_movie_matrix, n_recommendations=5):\n",
    "    similar_users = user_similarity[user_id].sort_values(ascending=False)[1:6]\n",
    "    user_ratings = user_movie_matrix.loc[user_id]\n",
    "    unwatched_movies = user_ratings[user_ratings == 0].index\n",
    "    \n",
    "    recommendations = []\n",
    "    for movie in unwatched_movies:\n",
    "        pred_rating = 0\n",
    "        sim_sum = 0\n",
    "        for similar_user in similar_users.index:\n",
    "            sim = similar_users[similar_user]\n",
    "            rating = user_movie_matrix.loc[similar_user, movie]\n",
    "            pred_rating += sim * rating\n",
    "            sim_sum += sim\n",
    "        pred_rating = pred_rating / sim_sum if sim_sum != 0 else 0\n",
    "        recommendations.append((movie, pred_rating))\n",
    "    \n",
    "    return sorted(recommendations, key=lambda x: x[1], reverse=True)[:n_recommendations]\n"
   ]
  },
  {
   "cell_type": "code",
   "execution_count": 13,
   "metadata": {},
   "outputs": [],
   "source": [
    "# Evaluate model using MSE, RMSE, and MAE\n",
    "def evaluate_model(user_similarity, user_movie_matrix):\n",
    "    mse_scores = []\n",
    "    mae_scores = []\n",
    "    rmse_scores = []\n",
    "    \n",
    "    for user in user_movie_matrix.index:\n",
    "        actual = user_movie_matrix.loc[user]\n",
    "        pred = np.zeros(len(actual))\n",
    "        \n",
    "        for i, movie_id in enumerate(actual.index):\n",
    "            if actual.iloc[i] > 0:\n",
    "                similar_users = user_similarity[user].sort_values(ascending=False)[1:6]\n",
    "                pred_score = 0\n",
    "                sim_sum = 0\n",
    "                for sim_user in similar_users.index:\n",
    "                    sim = similar_users[sim_user]\n",
    "                    rating = user_movie_matrix.loc[sim_user, movie_id]\n",
    "                    pred_score += sim * rating\n",
    "                    sim_sum += sim\n",
    "                pred[i] = pred_score / sim_sum if sim_sum != 0 else 0\n",
    "                 # Filter out unrated items\n",
    "                mask = actual > 0\n",
    "                if mask.sum() > 0:\n",
    "                    mse_scores.append(mean_squared_error(actual[mask], pred[mask]))\n",
    "                    mae_scores.append(mean_absolute_error(actual[mask], pred[mask]))\n",
    "                    rmse_scores.append(np.sqrt(mean_squared_error(actual[mask], pred[mask])))\n",
    "                        \n",
    "                return {\n",
    "                            'MSE': np.mean(mse_scores),\n",
    "                            'RMSE': np.mean(rmse_scores),\n",
    "                            'MAE': np.mean(mae_scores)\n",
    "                        }\n"
   ]
  },
  {
   "cell_type": "code",
   "execution_count": 15,
   "metadata": {},
   "outputs": [
    {
     "name": "stdout",
     "output_type": "stream",
     "text": [
      "Evaluation Metrics:\n",
      "MSE: 19.6479\n",
      "RMSE: 4.4326\n",
      "MAE: 4.3570\n",
      "\n",
      "Top 5 Movie Recommendations:\n",
      "Aliens (1986): 4.80\n",
      "Hunt for Red October, The (1990): 4.30\n",
      "Blade Runner (1982): 4.00\n",
      "Terminator 2: Judgment Day (1991): 4.00\n",
      "Die Hard (1988): 4.00\n"
     ]
    }
   ],
   "source": [
    "# Main execution\n",
    "if __name__ == \"__main__\":\n",
    "    movies, ratings = load_movie_data()\n",
    "    user_movie_matrix = create_user_movie_matrix(ratings)\n",
    "    user_similarity = train_collaborative_filter(user_movie_matrix)\n",
    "\n",
    "    sample_user_id = user_movie_matrix.index[0]\n",
    "    recommendations = get_recommendations(sample_user_id, user_similarity, user_movie_matrix)\n",
    "\n",
    "    metrics = evaluate_model(user_similarity, user_movie_matrix)\n",
    "\n",
    "    #Evaluation Metrics\n",
    "    print(\"Evaluation Metrics:\")\n",
    "    for metric, score in metrics.items():\n",
    "        print(f\"{metric}: {score:.4f}\")\n",
    "    #movie recommendations\n",
    "    print(\"\\nTop 5 Movie Recommendations:\")\n",
    "    for movie_id, score in recommendations:\n",
    "        movie_title = movies[movies['movieId'] == movie_id]['title'].values[0]\n",
    "        print(f\"{movie_title}: {score:.2f}\")\n",
    "    "
   ]
  },
  {
   "cell_type": "code",
   "execution_count": null,
   "metadata": {},
   "outputs": [],
   "source": []
  }
 ],
 "metadata": {
  "kernelspec": {
   "display_name": "Python [conda env:base] *",
   "language": "python",
   "name": "conda-base-py"
  },
  "language_info": {
   "codemirror_mode": {
    "name": "ipython",
    "version": 3
   },
   "file_extension": ".py",
   "mimetype": "text/x-python",
   "name": "python",
   "nbconvert_exporter": "python",
   "pygments_lexer": "ipython3",
   "version": "3.12.7"
  }
 },
 "nbformat": 4,
 "nbformat_minor": 4
}
